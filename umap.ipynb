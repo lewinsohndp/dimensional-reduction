{
 "cells": [
  {
   "cell_type": "code",
   "execution_count": null,
   "metadata": {},
   "outputs": [],
   "source": [
    "\n",
    "def UMAP(X, n, d, min_dist, epochs):\n",
    "    \"\"\"\n",
    "    Parameters\n",
    "    -----------\n",
    "    X : dataset\n",
    "    n : neigborhood size\n",
    "    d : dimension of target space\n",
    "    min_dist : parameter controlling layout\n",
    "    epochs : amount of optimization to perform\n",
    "    \"\"\"\n",
    "    #construct relevant wieghted graph\n",
    "    #for all x in X, use local fuzzy simplicalset(X,x,n)\n",
    "    fs_set = []\n",
    "    for x in X:\n",
    "        fs_set[x] = localFuzzySimplicialSet(X,x,n)\n",
    "    #use probabilitic t-conorm?\n",
    "    top_rep = None\n",
    "\n",
    "    #perform optimization of the graph layout\n",
    "    Y = spectralEmbedding(top_rep, d)\n",
    "    Y = optimizeEmbedding(top_rep, Y, min_dist, epochs)\n"
   ]
  },
  {
   "cell_type": "code",
   "execution_count": null,
   "metadata": {},
   "outputs": [],
   "source": [
    "def localFuzzySimplicialSet(X, x, n):\n",
    "    pass"
   ]
  }
 ],
 "metadata": {
  "interpreter": {
   "hash": "f71cb46b061729203058fe943898608c474d03700ae68d555058847834c36d65"
  },
  "kernelspec": {
   "display_name": "Python 3.9.7 64-bit ('cp307': conda)",
   "name": "python3"
  },
  "language_info": {
   "name": "python",
   "version": "3.9.7"
  },
  "orig_nbformat": 4
 },
 "nbformat": 4,
 "nbformat_minor": 2
}
